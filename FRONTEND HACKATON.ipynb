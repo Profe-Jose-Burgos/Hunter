{
 "cells": [
  {
   "cell_type": "code",
   "execution_count": 5,
   "id": "0943e600",
   "metadata": {},
   "outputs": [
    {
     "ename": "NameError",
     "evalue": "name 'base' is not defined",
     "output_type": "error",
     "traceback": [
      "\u001b[1;31m---------------------------------------------------------------------------\u001b[0m",
      "\u001b[1;31mNameError\u001b[0m                                 Traceback (most recent call last)",
      "Input \u001b[1;32mIn [5]\u001b[0m, in \u001b[0;36m<cell line: 1>\u001b[1;34m()\u001b[0m\n\u001b[1;32m----> 1\u001b[0m \u001b[43mbase\u001b[49m\u001b[38;5;241m.\u001b[39mtitle(\u001b[38;5;124m\"\u001b[39m\u001b[38;5;124mHUNTER\u001b[39m\u001b[38;5;124m\"\u001b[39m)\n\u001b[0;32m      2\u001b[0m \u001b[38;5;28;01mdef\u001b[39;00m \u001b[38;5;21msend\u001b[39m():\n\u001b[0;32m      3\u001b[0m     msg\u001b[38;5;241m=\u001b[39mentryBox\u001b[38;5;241m.\u001b[39mget(\u001b[38;5;124m\"\u001b[39m\u001b[38;5;124m1.0\u001b[39m\u001b[38;5;124m\"\u001b[39m, \u001b[38;5;124m\"\u001b[39m\u001b[38;5;124mend-1c\u001b[39m\u001b[38;5;124m\"\u001b[39m)\u001b[38;5;241m.\u001b[39mstip()\n",
      "\u001b[1;31mNameError\u001b[0m: name 'base' is not defined"
     ]
    }
   ],
   "source": [
    "base.title(\"HUNTER\")\n",
    "def send():\n",
    "    msg=entryBox.get(\"1.0\", \"end-1c\").stip()\n",
    "    entryBox.delete(\"0.0\", END)\n",
    "    \n",
    "    res=chatbotResponse(msg)\n",
    "    \n",
    "    ChatLog.config(state=NORMAL)\n",
    "    ChatLog.insert(END, \"YOU: \"+msg+'\\n\\n')\n",
    "    ChatLog.config(foreground=\"darkslategray\", font=(\"terminal\", 12))\n",
    "    ChatLog.insert(END, \"HUNTER: \"+res+'\\n\\n')\n",
    "    ChatLog.config(state=DISABLED)\n",
    "    ChatLog.yview(END)\n",
    "    \n",
    "base.resizable(width=FALSE, height=FALSE)\n",
    "\n",
    "ChatLog=Text(base, bd=0, bg=\"dimgray\", height=\"8\", width=\"50\", font=\"terminal\")\n",
    "ChatLog.config(foreground=\"white\", font=(\"terminal\", 12))\n",
    "ChatLog.insert(END,'\\n' + \"  HELLO, HOW CAN I HELP YOU?  \"+'\\n\\n')\n",
    "ChatLog.place(x=6, y=6, height=386, width=370)\n",
    "\n",
    "scrollbar = Scrollbar(base, command=ChatLog.yview, cursor=\"heart\")\n",
    "ChatLog['yscrollcommand']=scrollbar.set\n",
    "scrollbar.place(x=376, y=6, height=386)\n",
    "\n",
    "sendButton=Button(base, font=(\"LKLUG\", 12), text=\"SEND\",width=9, height=5, bd=0, bg=\"steelblue\", \n",
    "                  activebackground=\"gold\", fg=\"#ffffff\", command=send)\n",
    "sendButton.place(x=282, y=401, height=90, width=95)\n",
    "\n",
    "entryBox=Text(base, bd=0, bg=\"slategrey\", width=\"29\", height=\"5\", font=\"terminal\", fg=\"#ffffff\")\n",
    "entryBox.place(x=6, y=401, height=90, width=265)\n",
    "\n",
    "base.bind('<Return>', lambda event:send())\n",
    "base.mainloop()\n"
   ]
  }
 ],
 "metadata": {
  "kernelspec": {
   "display_name": "Python 3 (ipykernel)",
   "language": "python",
   "name": "python3"
  },
  "language_info": {
   "codemirror_mode": {
    "name": "ipython",
    "version": 3
   },
   "file_extension": ".py",
   "mimetype": "text/x-python",
   "name": "python",
   "nbconvert_exporter": "python",
   "pygments_lexer": "ipython3",
   "version": "3.9.12"
  }
 },
 "nbformat": 4,
 "nbformat_minor": 5
}
